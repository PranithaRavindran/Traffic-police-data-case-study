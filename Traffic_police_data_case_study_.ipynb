{
  "nbformat": 4,
  "nbformat_minor": 0,
  "metadata": {
    "colab": {
      "private_outputs": true,
      "provenance": []
    },
    "kernelspec": {
      "name": "python3",
      "display_name": "Python 3"
    },
    "language_info": {
      "name": "python"
    }
  },
  "cells": [
    {
      "cell_type": "code",
      "execution_count": null,
      "metadata": {
        "id": "5XkdfR0nQx-9"
      },
      "outputs": [],
      "source": [
        "import pandas as pd\n",
        "import numpy as np\n",
        "import matplotlib.pyplot as plt\n",
        "import seaborn as sns"
      ]
    },
    {
      "cell_type": "code",
      "source": [
        "from google.colab import files\n",
        "uploaded = files.upload()"
      ],
      "metadata": {
        "id": "GOEbZ-6ORUSM"
      },
      "execution_count": null,
      "outputs": []
    },
    {
      "cell_type": "code",
      "source": [
        "import pandas as pd\n",
        "import io\n",
        "df = pd.read_csv(io.BytesIO(uploaded[\"traffic_police.csv\"]))\n",
        "df.head()"
      ],
      "metadata": {
        "id": "jrDGJF_pRXyT"
      },
      "execution_count": null,
      "outputs": []
    },
    {
      "cell_type": "code",
      "source": [
        "df.dtypes"
      ],
      "metadata": {
        "id": "aPK8Z8enU9c3"
      },
      "execution_count": null,
      "outputs": []
    },
    {
      "cell_type": "code",
      "source": [
        "#search conducted for each age group of male and female\n",
        "pd.pivot_table(df, index=['driver_gender', 'violation'], values=['search_conducted'], aggfunc=np.sum)"
      ],
      "metadata": {
        "id": "3kl5PBKunEsi"
      },
      "execution_count": null,
      "outputs": []
    },
    {
      "cell_type": "code",
      "source": [
        "#average driver age (min,max) of each f, m violation each case on violation\n",
        "pd.pivot_table(df, index=['driver_gender', 'violation'], values=['driver_age'], aggfunc=[min,max])"
      ],
      "metadata": {
        "id": "PnH7bjLIoKrr"
      },
      "execution_count": null,
      "outputs": []
    },
    {
      "cell_type": "code",
      "source": [
        "# how many people arrested based on each date\n",
        "df.groupby('stop_date').stop_time.count()"
      ],
      "metadata": {
        "id": "ab05TQYroe1o"
      },
      "execution_count": null,
      "outputs": []
    },
    {
      "cell_type": "code",
      "source": [
        "#on which time police is more active\n",
        "df['stop_time'].mean()\n"
      ],
      "metadata": {
        "id": "qVlxGisvo9_K"
      },
      "execution_count": null,
      "outputs": []
    },
    {
      "cell_type": "code",
      "source": [
        "#how many males and female genders\n",
        "df['driver_gender'].value_counts()"
      ],
      "metadata": {
        "id": "H4lwnZQwpKrr"
      },
      "execution_count": null,
      "outputs": []
    },
    {
      "cell_type": "code",
      "source": [
        "df.driver_gender.value_counts().plot(kind='bar')"
      ],
      "metadata": {
        "id": "wXalLb-apaqH"
      },
      "execution_count": null,
      "outputs": []
    },
    {
      "cell_type": "code",
      "source": [
        "#fine avergae , min , max age for male and female drivers\n",
        "df.groupby('driver_gender').driver_age.agg(['mean','min','max'])"
      ],
      "metadata": {
        "id": "Vba73L0pp6uC"
      },
      "execution_count": null,
      "outputs": []
    },
    {
      "cell_type": "code",
      "source": [
        "#check whether male or female drug activity\n",
        "df.groupby('driver_gender').drugs_related_stop.sum()"
      ],
      "metadata": {
        "id": "DwzNhFO0qL8q"
      },
      "execution_count": null,
      "outputs": []
    },
    {
      "cell_type": "code",
      "source": [
        "#extract true cases for female and male\n",
        "df.groupby('driver_gender').drugs_related_stop.sum()"
      ],
      "metadata": {
        "id": "EQDPqW-nqczI"
      },
      "execution_count": null,
      "outputs": []
    },
    {
      "cell_type": "code",
      "source": [
        "#total number of cases true and false drug related activity\n",
        "df.drugs_related_stop.value_counts()"
      ],
      "metadata": {
        "id": "TU9KVW4cq0md"
      },
      "execution_count": null,
      "outputs": []
    },
    {
      "cell_type": "code",
      "source": [
        "#what kind of action taken by police on each date\n",
        "df.groupby('stop_date').stop_outcome.value_counts()"
      ],
      "metadata": {
        "id": "yOKFSw-MrKC6"
      },
      "execution_count": null,
      "outputs": []
    },
    {
      "cell_type": "code",
      "source": [
        "#how many times police just has given warning as stop outcomes\n",
        "df.stop_outcome.value_counts()"
      ],
      "metadata": {
        "id": "JnkFr2YorW8X"
      },
      "execution_count": null,
      "outputs": []
    },
    {
      "cell_type": "code",
      "source": [
        "#how many male and female on each violations\n",
        "df.groupby('driver_gender').violation.value_counts()"
      ],
      "metadata": {
        "id": "5FDpHnalspEi"
      },
      "execution_count": null,
      "outputs": []
    },
    {
      "cell_type": "code",
      "source": [
        "pd.crosstab(df['driver_gender'], df['violation'],margins=True)"
      ],
      "metadata": {
        "id": "62H-L0LFs5TG"
      },
      "execution_count": null,
      "outputs": []
    },
    {
      "cell_type": "code",
      "source": [
        "# data distribution visualization for driver_age\n",
        "df.boxplot(column='driver_age')"
      ],
      "metadata": {
        "id": "v-j2Pc7TtqyV"
      },
      "execution_count": null,
      "outputs": []
    }
  ]
}